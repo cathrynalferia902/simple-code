{
  "metadata": {
    "kernelspec": {
      "name": "python",
      "display_name": "Python (Pyodide)",
      "language": "python"
    },
    "language_info": {
      "codemirror_mode": {
        "name": "python",
        "version": 3
      },
      "file_extension": ".py",
      "mimetype": "text/x-python",
      "name": "python",
      "nbconvert_exporter": "python",
      "pygments_lexer": "ipython3",
      "version": "3.8"
    }
  },
  "nbformat_minor": 5,
  "nbformat": 4,
  "cells": [
    {
      "id": "cf2d69cc-c9dd-470d-8190-f38ce9194974",
      "cell_type": "code",
      "source": "import time\n\n# Initialize variables\nmotion_duration = 0\nno_motion_duration = 0\nalarm_state = 0\ndt = 100  # Time step in milliseconds (0.1 seconds)\n\n# Simulate motion detection: motion occurs for the first 3.5 seconds\nstart_time = time.time()\n\ntry:\n    while True:\n        current_time = time.time() - start_time\n        motion_detected = current_time < 3.5  # Motion for first 3.5 seconds\n        \n        # Update motion/no-motion counters\n        if motion_detected:\n            motion_duration += dt\n            no_motion_duration = 0\n        else:\n            no_motion_duration += dt\n            motion_duration = 0\n        \n        # Trigger alarm after 3 seconds of continuous motion\n        if not alarm_state and motion_duration >= 3000:\n            alarm_state = 1\n            print(f\"🚨 ALARM ACTIVATED at {current_time:.1f} seconds\")\n        \n        # Turn off alarm after 2 seconds of no motion\n        if alarm_state and no_motion_duration >= 2000:\n            alarm_state = 0\n            print(f\"🔇 ALARM DEACTIVATED at {current_time:.1f} seconds\")\n            motion_duration = 0\n            no_motion_duration = 0  # Reset counters\n        \n        time.sleep(dt / 1000)  # Convert dt to seconds\n\nexcept KeyboardInterrupt:\n    print(\"\\nSimulation stopped by user.\")",
      "metadata": {
        "trusted": true
      },
      "outputs": [
        {
          "name": "stdout",
          "output_type": "stream",
          "text": "🚨 ALARM ACTIVATED at 2.9 seconds\n🔇 ALARM DEACTIVATED at 5.4 seconds\n"
        }
      ],
      "execution_count": null
    },
    {
      "id": "171df17d-acc0-4af8-a93c-dfacd3860a17",
      "cell_type": "code",
      "source": "",
      "metadata": {
        "trusted": true
      },
      "outputs": [],
      "execution_count": null
    }
  ]
}